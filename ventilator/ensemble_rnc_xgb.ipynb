{
 "cells": [
  {
   "cell_type": "code",
   "execution_count": 1,
   "id": "134a8795",
   "metadata": {},
   "outputs": [],
   "source": [
    "import numpy as np\n",
    "import pandas as pd\n",
    "import torch\n",
    "import matplotlib.pyplot as plt\n",
    "\n",
    "df = pd.read_csv(\"./data/train.csv\")"
   ]
  },
  {
   "cell_type": "code",
   "execution_count": 2,
   "id": "c9865c34",
   "metadata": {},
   "outputs": [],
   "source": [
    "\"\"\"\n",
    "pre-processing\n",
    "\"\"\"\n",
    "import random\n",
    "from sklearn.preprocessing import LabelEncoder\n",
    "\n",
    "def pre_process(df, le_rnc=None):\n",
    "    # shuffling\n",
    "    ids = df[\"breath_id\"].unique()\n",
    "    random.shuffle(ids)\n",
    "    df = df.set_index(\"breath_id\").loc[ids].reset_index()\n",
    "    \n",
    "    # R and C\n",
    "    df[\"rnc\"] = df[\"R\"].astype(str) + '_' + df[\"C\"].astype(str)\n",
    "    if le_rnc is None:\n",
    "        le_rnc = LabelEncoder()\n",
    "        le_rnc.fit(df.loc[:, \"rnc\"])\n",
    "    df.loc[:, \"rnc\"] = le_rnc.transform(list(df.loc[:, \"rnc\"]))\n",
    "\n",
    "    # time diff\n",
    "    df.rename({\"time_step\": \"t\"}, axis=1, inplace=True)\n",
    "    df[\"t_m1\"] = df.groupby(\"breath_id\")[\"t\"].shift(-1)\n",
    "    df[\"dt\"] = df[\"t_m1\"] - df[\"t\"]\n",
    "    df[\"dt\"].fillna(method='ffill', inplace=True)\n",
    "    df[\"dt2\"] = df[\"dt\"] ** 2\n",
    "\n",
    "    # u_in - future and past values, 1st diff, and 1st derivative\n",
    "    df[\"u_in_m1\"] = df.groupby(\"breath_id\")[\"u_in\"].shift(-1).fillna(method=\"ffill\")\n",
    "    df[\"u_in_p1\"] = df.groupby(\"breath_id\")[\"u_in\"].shift(1).fillna(method=\"bfill\")\n",
    "    df[\"d1_u_in\"] = df[\"u_in_m1\"] - df[\"u_in\"]\n",
    "    df[\"prime1_u_in\"] = df[\"d1_u_in\"] / df[\"dt\"]\n",
    "\n",
    "    # u_out - future and past values\n",
    "    df[\"u_out_m1\"] = df.groupby(\"breath_id\")[\"u_out\"].shift(-1).fillna(method=\"ffill\")\n",
    "    df[\"u_out_p1\"] = df.groupby(\"breath_id\")[\"u_out\"].shift(1).fillna(method=\"bfill\")\n",
    "\n",
    "    # integration\n",
    "    df[\"int1_u_in\"] = (df[\"u_in\"] * df[\"dt\"]).cumsum()\n",
    "    df[\"int2_u_in\"] = (df[\"int1_u_in\"] * df[\"dt\"]).cumsum()\n",
    "    \n",
    "    return df, le_rnc\n",
    "\n",
    "df, le_rnc = pre_process(df)"
   ]
  },
  {
   "cell_type": "code",
   "execution_count": 3,
   "id": "3d427af2",
   "metadata": {},
   "outputs": [],
   "source": [
    "class Predictor:\n",
    "    \n",
    "    def __init__(self, model_1, model_2):\n",
    "        self.model_1 = model_1\n",
    "        self.model_2 = model_2\n",
    "        \n",
    "    def fit(self, df):\n",
    "        breath_ids = df[\"breath_id\"].unique()\n",
    "        n_breath_ids = len(breath_ids)\n",
    "        n_time_steps = len(df) // n_breath_ids\n",
    "        print(f\"Fitting. n_breath_ids {n_breath_ids}, n_time_steps {n_time_steps}\")\n",
    "        \n",
    "        n_in = 5\n",
    "        cols = [\"rnc\", \"dt\", \"u_in\", \"d1_u_in\", \"prime1_u_in\"]\n",
    "        n_cols = len(cols)\n",
    "\n",
    "        x = df[cols].to_numpy().reshape((n_breath_ids, n_time_steps, n_cols))[:, :n_in, :]\n",
    "        x = x.reshape((n_breath_ids, n_in * n_cols))\n",
    "        y = df[\"pressure\"].to_numpy().reshape((n_breath_ids, n_time_steps))[:, 0]\n",
    "        self.model_1.fit(x, y)\n",
    "        \n",
    "        df.loc[:, \"pressure_p1\"] = df.groupby(\"breath_id\")[\"pressure\"].shift(1)\n",
    "        df_tmp = df.dropna()\n",
    "        \n",
    "        cols = [\"rnc\", \"u_in\", \"u_out\", \"dt\", \"u_in_m1\", \"u_in_p1\", \"u_out_m1\", \"u_out_p1\", \"pressure_p1\"]\n",
    "        x = df_tmp[cols].to_numpy()\n",
    "        y = df_tmp[\"pressure\"].to_numpy()\n",
    "        self.model_2.fit(x, y)\n",
    "        \n",
    "    def predict(self, df, verbose=False):\n",
    "        breath_ids = df[\"breath_id\"].unique()\n",
    "        n_breath_ids = len(breath_ids)\n",
    "        n_time_steps = len(df) // n_breath_ids\n",
    "        print(f\"Predicting. n_breath_ids {n_breath_ids}, n_time_steps {n_time_steps}\")\n",
    "        \n",
    "        n_in = 5\n",
    "        cols = [\"rnc\", \"dt\", \"u_in\", \"d1_u_in\", \"prime1_u_in\"]\n",
    "        n_cols = len(cols)\n",
    "        \n",
    "        y_tot = np.zeros((n_breath_ids, n_time_steps))\n",
    "        \n",
    "        x = df[cols].to_numpy().reshape((n_breath_ids, n_time_steps, n_cols))[:, :n_in, :]\n",
    "        x = x.reshape((n_breath_ids, n_in * n_cols))\n",
    "        y = self.model_1.predict(x)\n",
    "        y_tot[:, 0] = y\n",
    "        \n",
    "        cols = [\"rnc\", \"u_in\", \"u_out\", \"dt\", \"u_in_m1\", \"u_in_p1\", \"u_out_m1\", \"u_out_p1\"]\n",
    "        n_cols = len(cols)\n",
    "        x = df[cols].to_numpy().reshape((n_breath_ids, n_time_steps, n_cols))\n",
    "        for step in range(n_time_steps - 1):\n",
    "            if verbose:\n",
    "                print(f\"predicting t {step+1}\")\n",
    "            x_step = np.zeros((n_breath_ids, n_cols + 1))\n",
    "            x_step[:, :-1] = x[:, step+1, :]\n",
    "            x_step[:, -1] = y_tot[:, step]\n",
    "            y_tot[:, step+1] = self.model_2.predict(x_step)\n",
    "            \n",
    "        return y_tot.reshape(-1)"
   ]
  },
  {
   "cell_type": "code",
   "execution_count": 7,
   "id": "dcdfd623",
   "metadata": {},
   "outputs": [
    {
     "name": "stdout",
     "output_type": "stream",
     "text": [
      "Fitting. n_breath_ids 37725, n_time_steps 80\n"
     ]
    },
    {
     "name": "stderr",
     "output_type": "stream",
     "text": [
      "/home/kirill/opt/miniconda/envs/kaggle/lib/python3.9/site-packages/xgboost/data.py:104: UserWarning: Use subset (sliced data) of np.ndarray is not recommended because it will generate extra copies and increase memory consumption\n",
      "  warnings.warn(\n",
      "/home/kirill/opt/miniconda/envs/kaggle/lib/python3.9/site-packages/pandas/core/indexing.py:1667: SettingWithCopyWarning: \n",
      "A value is trying to be set on a copy of a slice from a DataFrame.\n",
      "Try using .loc[row_indexer,col_indexer] = value instead\n",
      "\n",
      "See the caveats in the documentation: https://pandas.pydata.org/pandas-docs/stable/user_guide/indexing.html#returning-a-view-versus-a-copy\n",
      "  self.obj[key] = value\n"
     ]
    },
    {
     "name": "stdout",
     "output_type": "stream",
     "text": [
      "Predicting. n_breath_ids 37725, n_time_steps 80\n",
      "fold 0 scores 0.8131015431179155 2.0104700017808477\n",
      "Fitting. n_breath_ids 37725, n_time_steps 80\n"
     ]
    },
    {
     "name": "stderr",
     "output_type": "stream",
     "text": [
      "/home/kirill/opt/miniconda/envs/kaggle/lib/python3.9/site-packages/xgboost/data.py:104: UserWarning: Use subset (sliced data) of np.ndarray is not recommended because it will generate extra copies and increase memory consumption\n",
      "  warnings.warn(\n",
      "/home/kirill/opt/miniconda/envs/kaggle/lib/python3.9/site-packages/pandas/core/indexing.py:1667: SettingWithCopyWarning: \n",
      "A value is trying to be set on a copy of a slice from a DataFrame.\n",
      "Try using .loc[row_indexer,col_indexer] = value instead\n",
      "\n",
      "See the caveats in the documentation: https://pandas.pydata.org/pandas-docs/stable/user_guide/indexing.html#returning-a-view-versus-a-copy\n",
      "  self.obj[key] = value\n"
     ]
    },
    {
     "name": "stdout",
     "output_type": "stream",
     "text": [
      "Predicting. n_breath_ids 37725, n_time_steps 80\n",
      "fold 1 scores 0.8142405409994472 1.9968350491953508\n"
     ]
    },
    {
     "data": {
      "text/plain": [
       "(0.8136710420586813,\n",
       " 0.0005694989407658557,\n",
       " 2.003652525488099,\n",
       " 0.006817476292748426)"
      ]
     },
     "execution_count": 7,
     "metadata": {},
     "output_type": "execute_result"
    }
   ],
   "source": [
    "from sklearn.pipeline import make_pipeline\n",
    "from sklearn.preprocessing import RobustScaler\n",
    "from sklearn.model_selection import KFold\n",
    "from sklearn.metrics import r2_score, mean_absolute_error\n",
    "\n",
    "def get_score(predictor, df, n_folds=10):\n",
    "    kfold = KFold(n_splits=n_folds, shuffle=False)\n",
    "    scores_1, scores_2 = list(), list()\n",
    "    for fold, (train_ids, test_ids) in enumerate(kfold.split(df)):\n",
    "        df_train = df.iloc[train_ids, :]\n",
    "        df_test = df.iloc[train_ids, :]\n",
    "        y_test = df_test[\"pressure\"]\n",
    "        predictor.fit(df_train)\n",
    "        yp_test = predictor.predict(df_test)\n",
    "        score_1 = r2_score(y_test, yp_test)\n",
    "        score_2 = mean_absolute_error(y_test, yp_test)\n",
    "        scores_1.append(score_1)\n",
    "        scores_2.append(score_2)\n",
    "        print(\"fold\", fold, \"scores\", score_1, score_2)\n",
    "    return np.mean(scores_1), np.std(scores_1), np.mean(scores_2), np.std(scores_2)\n",
    "\n",
    "import xgboost as xgb\n",
    "model_1 = xgb.XGBRegressor(colsample_bytree=0.4603, gamma=0.0468, \n",
    "                           learning_rate=0.05, max_depth=3, \n",
    "                           min_child_weight=1.7817, n_estimators=2200,\n",
    "                           reg_alpha=0.4640, reg_lambda=0.8571,\n",
    "                           subsample=0.5213, verbosity=0,\n",
    "                           random_state=7, nthread=-1)\n",
    "model_2 = xgb.XGBRegressor(colsample_bytree=0.4603, gamma=0.0468, \n",
    "                           learning_rate=0.05, max_depth=2, \n",
    "                           min_child_weight=1.7817, n_estimators=500,\n",
    "                           reg_alpha=0.4640, reg_lambda=0.8571,\n",
    "                           subsample=0.5213, verbosity=0,\n",
    "                           random_state=7, nthread=-1)\n",
    "\n",
    "\n",
    "from sklearn.linear_model import Ridge\n",
    "#model_1 = make_pipeline(RobustScaler(), Ridge(alpha=0.1, random_state=0))\n",
    "#model_2 = make_pipeline(RobustScaler(), Ridge(alpha=0.1, random_state=0))\n",
    "\n",
    "predictor = Predictor(model_1, model_2)\n",
    "get_score(predictor, df, n_folds=2)"
   ]
  },
  {
   "cell_type": "code",
   "execution_count": 8,
   "id": "5a5b6844",
   "metadata": {},
   "outputs": [
    {
     "name": "stdout",
     "output_type": "stream",
     "text": [
      "Fitting. n_breath_ids 75450, n_time_steps 80\n"
     ]
    },
    {
     "name": "stderr",
     "output_type": "stream",
     "text": [
      "/home/kirill/opt/miniconda/envs/kaggle/lib/python3.9/site-packages/xgboost/data.py:104: UserWarning: Use subset (sliced data) of np.ndarray is not recommended because it will generate extra copies and increase memory consumption\n",
      "  warnings.warn(\n"
     ]
    },
    {
     "name": "stdout",
     "output_type": "stream",
     "text": [
      "Predicting. n_breath_ids 75450, n_time_steps 80\n",
      "0.7715045391944017\n",
      "1.9628034838222568\n"
     ]
    },
    {
     "data": {
      "image/png": "[encoded data removed]",
      "text/plain": [
       "<Figure size 432x288 with 1 Axes>"
      ]
     },
     "metadata": {
      "needs_background": "light"
     },
     "output_type": "display_data"
    }
   ],
   "source": [
    "predictor.fit(df)\n",
    "y = df[\"pressure\"]\n",
    "yp = predictor.predict(df)\n",
    "plt.plot(y[:800])\n",
    "plt.plot(yp[:800])\n",
    "print(r2_score(yp, y))\n",
    "print(mean_absolute_error(yp, y))"
   ]
  },
  {
   "cell_type": "code",
   "execution_count": 9,
   "id": "26caa3c4",
   "metadata": {},
   "outputs": [
    {
     "name": "stdout",
     "output_type": "stream",
     "text": [
      "Predicting. n_breath_ids 50300, n_time_steps 80\n"
     ]
    }
   ],
   "source": [
    "df_final = pd.read_csv(\"./data/test.csv\")\n",
    "assert len(df_final) == 4024000\n",
    "df_final, le_rnc = pre_process(df_final, le_rnc)\n",
    "df_final[\"yp\"] = predictor.predict(df_final)\n",
    "df_final[[\"id\", \"yp\"]].to_csv(\"output.zip\", index=False, header=[\"id\", \"pressure\"], compression=\"zip\")"
   ]
  },
  {
   "cell_type": "code",
   "execution_count": null,
   "id": "29707ac6",
   "metadata": {},
   "outputs": [],
   "source": []
  }
 ],
 "metadata": {
  "kernelspec": {
   "display_name": "kaggle",
   "language": "python",
   "name": "kaggle"
  },
  "language_info": {
   "codemirror_mode": {
    "name": "ipython",
    "version": 3
   },
   "file_extension": ".py",
   "mimetype": "text/x-python",
   "name": "python",
   "nbconvert_exporter": "python",
   "pygments_lexer": "ipython3",
   "version": "3.9.7"
  }
 },
 "nbformat": 4,
 "nbformat_minor": 5
}
