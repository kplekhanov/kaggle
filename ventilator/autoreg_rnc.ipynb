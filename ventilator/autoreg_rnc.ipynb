{
 "cells": [
  {
   "cell_type": "code",
   "execution_count": 1,
   "id": "c756fd7f",
   "metadata": {},
   "outputs": [],
   "source": [
    "import numpy as np\n",
    "import pandas as pd\n",
    "import torch\n",
    "import matplotlib.pyplot as plt\n",
    "\n",
    "df = pd.read_csv(\"./data/train.csv\")"
   ]
  },
  {
   "cell_type": "code",
   "execution_count": 2,
   "id": "c1515c49",
   "metadata": {},
   "outputs": [
    {
     "name": "stdout",
     "output_type": "stream",
     "text": [
      "    id  breath_id   R   C         t       u_in  u_out   pressure  rnc  \\\n",
      "1    2          1  20  50  0.033652  18.383041      0   5.907794    2   \n",
      "2    3          1  20  50  0.067514  22.509278      0   7.876254    2   \n",
      "3    4          1  20  50  0.101542  22.808822      0  11.742872    2   \n",
      "4    5          1  20  50  0.135756  25.355850      0  12.234987    2   \n",
      "5    6          1  20  50  0.169698  27.259866      0  12.867706    2   \n",
      "..  ..        ...  ..  ..       ...        ...    ...        ...  ...   \n",
      "74  75          1  20  50  2.519502   4.969730      1   6.470211    2   \n",
      "75  76          1  20  50  2.553593   4.974474      1   6.399909    2   \n",
      "76  77          1  20  50  2.587754   4.978481      1   6.610815    2   \n",
      "77  78          1  20  50  2.621773   4.981847      1   6.329607    2   \n",
      "78  79          1  20  50  2.655746   4.984683      1   6.540513    2   \n",
      "\n",
      "        t_m1  ...       dt2    u_in_m1    u_in_p1    d1_u_in  prime1_u_in  \\\n",
      "1   0.067514  ...  0.001147  22.509278   0.083334  18.299707   540.418342   \n",
      "2   0.101542  ...  0.001158  22.808822  18.383041   4.126236   121.260690   \n",
      "3   0.135756  ...  0.001171  25.355850  22.509278   0.299544     8.755205   \n",
      "4   0.169698  ...  0.001152  27.259866  22.808822   2.547028    75.040108   \n",
      "5   0.203708  ...  0.001157  27.127486  25.355850   1.904016    55.983709   \n",
      "..       ...  ...       ...        ...        ...        ...          ...   \n",
      "74  2.553593  ...  0.001162   4.974474   4.964136   0.005594     0.164086   \n",
      "75  2.587754  ...  0.001167   4.978481   4.969730   0.004744     0.138877   \n",
      "76  2.621773  ...  0.001157   4.981847   4.974474   0.004008     0.117811   \n",
      "77  2.655746  ...  0.001154   4.984683   4.978481   0.003366     0.099078   \n",
      "78  2.689766  ...  0.001157   4.987079   4.981847   0.002836     0.083355   \n",
      "\n",
      "    int1_u_in  int2_u_in  pressure_p1  u_out_m1  u_out_p1  \n",
      "1    0.625293   0.021268     5.837492       0.0       0.0  \n",
      "2    1.391235   0.068609     5.907794       0.0       0.0  \n",
      "3    2.171600   0.142906     7.876254       0.0       0.0  \n",
      "4    3.032234   0.245827    11.742872       0.0       0.0  \n",
      "5    3.959346   0.380485    12.234987       0.0       0.0  \n",
      "..        ...        ...          ...       ...       ...  \n",
      "74  26.795806  48.907026     6.751420       1.0       1.0  \n",
      "75  26.965735  49.828179     6.470211       1.0       1.0  \n",
      "76  27.135102  50.751314     6.399909       1.0       1.0  \n",
      "77  27.304347  51.678904     6.610815       1.0       1.0  \n",
      "78  27.473928  52.613579     6.329607       1.0       1.0  \n",
      "\n",
      "[78 rows x 21 columns]\n"
     ]
    }
   ],
   "source": [
    "\"\"\"\n",
    "pre-processing\n",
    "\"\"\"\n",
    "\n",
    "# R and C\n",
    "from sklearn.preprocessing import LabelEncoder\n",
    "\n",
    "df[\"rnc\"] = df[\"R\"].astype(str) + '_' + df[\"C\"].astype(str)\n",
    "le_rnc = LabelEncoder()\n",
    "le_rnc.fit(df.loc[:, \"rnc\"])\n",
    "df.loc[:, \"rnc\"] = le_rnc.transform(list(df.loc[:, \"rnc\"]))\n",
    "\n",
    "# time diff\n",
    "df.rename({\"time_step\": \"t\"}, axis=1, inplace=True)\n",
    "df[\"t_m1\"] = df.groupby(\"breath_id\")[\"t\"].shift(-1)\n",
    "df[\"dt\"] = df[\"t_m1\"] - df[\"t\"]\n",
    "df[\"dt\"].fillna(method='ffill', inplace=True)\n",
    "df[\"dt2\"] = df[\"dt\"] ** 2\n",
    "\n",
    "# u_in - future and past values, 1st diff, and 1st derivative\n",
    "df[\"u_in_m1\"] = df.groupby(\"breath_id\")[\"u_in\"].shift(-1).fillna(method=\"ffill\")\n",
    "df[\"u_in_p1\"] = df.groupby(\"breath_id\")[\"u_in\"].shift(1).fillna(method=\"bfill\")\n",
    "df[\"d1_u_in\"] = df[\"u_in\"] - df[\"u_in_p1\"]\n",
    "df[\"prime1_u_in\"] = df[\"d1_u_in\"] / df[\"dt\"]\n",
    "\n",
    "# integration\n",
    "df[\"int1_u_in\"] = (df[\"u_in\"] * df[\"dt\"]).cumsum()\n",
    "df[\"int2_u_in\"] = (df[\"int1_u_in\"] * df[\"dt\"]).cumsum()\n",
    "\n",
    "\"\"\"\n",
    "re-scaling\n",
    "\"\"\"\n",
    "from sklearn.preprocessing import StandardScaler\n",
    "\n",
    "#scaling_keys = [\"pressure\", \"u_in\", \"d1_u_in\", \"d2_u_in\", \"prime1_u_in\", \"prime2_u_in\", \"int1_u_in\", \"int2_u_in\"]\n",
    "#scalers = {}\n",
    "#for key in scaling_keys:\n",
    "#    scaler = StandardScaler()\n",
    "#    scaler.fit(df[[key]])\n",
    "#    df[[key]]= scaler.transform(df[[key]])\n",
    "#    scalers[key] = scaler\n",
    "    \n",
    "# pressure past\n",
    "df[\"pressure_p1\"] = df.groupby(\"breath_id\")[\"pressure\"].shift(1)\n",
    "\n",
    "# u_out - future and past values\n",
    "df[\"u_out_m1\"] = df.groupby(\"breath_id\")[\"u_out\"].shift(-1).fillna(method=\"ffill\")\n",
    "df[\"u_out_p1\"] = df.groupby(\"breath_id\")[\"u_out\"].shift(1).fillna(method=\"bfill\")\n",
    "\n",
    "# dropna\n",
    "df = df.dropna()\n",
    "\n",
    "print(df[df[\"breath_id\"] == 1])"
   ]
  },
  {
   "cell_type": "code",
   "execution_count": 3,
   "id": "fb6e4ba9",
   "metadata": {},
   "outputs": [],
   "source": [
    "\"\"\"\n",
    "getting x and y\n",
    "\"\"\"\n",
    "\n",
    "breath_ids = df[\"breath_id\"].unique()\n",
    "n_breath_ids = len(breath_ids)\n",
    "n_time_steps = len(df) // n_breath_ids - 1\n",
    "\n",
    "cols = [\"rnc\", \"u_in\", \"u_out\", \"pressure_p1\", \"dt\", \"u_in_m1\", \"u_in_p1\", \"u_out_m1\", \"u_out_p1\"]\n",
    "n_cols = len(cols)\n",
    "x = df[cols].to_numpy()\n",
    "y = df[\"pressure\"].to_numpy()"
   ]
  },
  {
   "cell_type": "code",
   "execution_count": 4,
   "id": "84360e6d",
   "metadata": {},
   "outputs": [],
   "source": [
    "\"\"\"\n",
    "simple models\n",
    "\"\"\"\n",
    "\n",
    "from sklearn.pipeline import make_pipeline\n",
    "from sklearn.model_selection import KFold\n",
    "from sklearn.preprocessing import RobustScaler\n",
    "from sklearn.metrics import r2_score, mean_absolute_error\n",
    "\n",
    "def get_score(model, x, y, n_folds=10):\n",
    "    kfold = KFold(n_splits=n_folds, shuffle=True)\n",
    "    scores_1, scores_2 = list(), list()\n",
    "    for fold, (train_ids, test_ids) in enumerate(kfold.split(x)):\n",
    "        \n",
    "        train_x, test_x = x[train_ids], x[test_ids]\n",
    "        train_y, test_y = y[train_ids], y[test_ids]\n",
    "        model.fit(train_x, train_y)\n",
    "        score_1 = r2_score(test_y, model.predict(test_x))\n",
    "        score_2 = mean_absolute_error(test_y, model.predict(test_x))\n",
    "        scores_1.append(score_1)\n",
    "        scores_2.append(score_2)\n",
    "        print(\"model\", type(model).__name__, \"fold\", fold, \"scores\", score_1, score_2)\n",
    "    return np.mean(scores_1), np.std(scores_1), np.mean(scores_2), np.std(scores_2)"
   ]
  },
  {
   "cell_type": "code",
   "execution_count": 5,
   "id": "d03a81cd",
   "metadata": {},
   "outputs": [
    {
     "name": "stdout",
     "output_type": "stream",
     "text": [
      "model Pipeline fold 0 scores 0.95725524647535 0.8659045240307784\n",
      "model Pipeline fold 1 scores 0.9578939233608271 0.862236218566415\n",
      "model Pipeline fold 2 scores 0.9578865110053629 0.865254262158893\n",
      "model Pipeline fold 3 scores 0.9579043224356918 0.8638189130035642\n",
      "model Pipeline fold 4 scores 0.9584373426003184 0.8629651644923472\n",
      "model Pipeline fold 5 scores 0.958206998474455 0.8631540259536906\n",
      "model Pipeline fold 6 scores 0.9583407410009812 0.8627649205951763\n",
      "model Pipeline fold 7 scores 0.9584507760725124 0.8604345077703399\n",
      "model Pipeline fold 8 scores 0.9582499301824685 0.8623438407142412\n",
      "model Pipeline fold 9 scores 0.9575600881680432 0.8649953253622038\n",
      "ridge (0.9580185879776011, 0.00037334927571153323, 0.863387170264765, 0.001560344471463399)\n"
     ]
    }
   ],
   "source": [
    "from sklearn.linear_model import Ridge\n",
    "model_ridge = make_pipeline(RobustScaler(), Ridge(alpha=0.1, random_state=0))\n",
    "print(\"ridge\", get_score(model_ridge, x, y))"
   ]
  },
  {
   "cell_type": "code",
   "execution_count": 6,
   "id": "18946541",
   "metadata": {},
   "outputs": [
    {
     "ename": "KeyboardInterrupt",
     "evalue": "",
     "output_type": "error",
     "traceback": [
      "\u001b[0;31m---------------------------------------------------------------------------\u001b[0m",
      "\u001b[0;31mKeyboardInterrupt\u001b[0m                         Traceback (most recent call last)",
      "\u001b[0;32m/tmp/ipykernel_228449/19803562.py\u001b[0m in \u001b[0;36m<module>\u001b[0;34m\u001b[0m\n\u001b[1;32m      6\u001b[0m                              \u001b[0msubsample\u001b[0m\u001b[0;34m=\u001b[0m\u001b[0;36m0.5213\u001b[0m\u001b[0;34m,\u001b[0m \u001b[0mverbosity\u001b[0m\u001b[0;34m=\u001b[0m\u001b[0;36m0\u001b[0m\u001b[0;34m,\u001b[0m\u001b[0;34m\u001b[0m\u001b[0;34m\u001b[0m\u001b[0m\n\u001b[1;32m      7\u001b[0m                              random_state=7, nthread=-1)\n\u001b[0;32m----> 8\u001b[0;31m \u001b[0mprint\u001b[0m\u001b[0;34m(\u001b[0m\u001b[0;34m\"xgboost\"\u001b[0m\u001b[0;34m,\u001b[0m \u001b[0mget_score\u001b[0m\u001b[0;34m(\u001b[0m\u001b[0mmodel_xgb\u001b[0m\u001b[0;34m,\u001b[0m \u001b[0mx\u001b[0m\u001b[0;34m,\u001b[0m \u001b[0my\u001b[0m\u001b[0;34m)\u001b[0m\u001b[0;34m)\u001b[0m\u001b[0;34m\u001b[0m\u001b[0;34m\u001b[0m\u001b[0m\n\u001b[0m",
      "\u001b[0;32m/tmp/ipykernel_228449/1767933777.py\u001b[0m in \u001b[0;36mget_score\u001b[0;34m(model, x, y, n_folds)\u001b[0m\n\u001b[1;32m     16\u001b[0m         \u001b[0mtrain_x\u001b[0m\u001b[0;34m,\u001b[0m \u001b[0mtest_x\u001b[0m \u001b[0;34m=\u001b[0m \u001b[0mx\u001b[0m\u001b[0;34m[\u001b[0m\u001b[0mtrain_ids\u001b[0m\u001b[0;34m]\u001b[0m\u001b[0;34m,\u001b[0m \u001b[0mx\u001b[0m\u001b[0;34m[\u001b[0m\u001b[0mtest_ids\u001b[0m\u001b[0;34m]\u001b[0m\u001b[0;34m\u001b[0m\u001b[0;34m\u001b[0m\u001b[0m\n\u001b[1;32m     17\u001b[0m         \u001b[0mtrain_y\u001b[0m\u001b[0;34m,\u001b[0m \u001b[0mtest_y\u001b[0m \u001b[0;34m=\u001b[0m \u001b[0my\u001b[0m\u001b[0;34m[\u001b[0m\u001b[0mtrain_ids\u001b[0m\u001b[0;34m]\u001b[0m\u001b[0;34m,\u001b[0m \u001b[0my\u001b[0m\u001b[0;34m[\u001b[0m\u001b[0mtest_ids\u001b[0m\u001b[0;34m]\u001b[0m\u001b[0;34m\u001b[0m\u001b[0;34m\u001b[0m\u001b[0m\n\u001b[0;32m---> 18\u001b[0;31m         \u001b[0mmodel\u001b[0m\u001b[0;34m.\u001b[0m\u001b[0mfit\u001b[0m\u001b[0;34m(\u001b[0m\u001b[0mtrain_x\u001b[0m\u001b[0;34m,\u001b[0m \u001b[0mtrain_y\u001b[0m\u001b[0;34m)\u001b[0m\u001b[0;34m\u001b[0m\u001b[0;34m\u001b[0m\u001b[0m\n\u001b[0m\u001b[1;32m     19\u001b[0m         \u001b[0mscore_1\u001b[0m \u001b[0;34m=\u001b[0m \u001b[0mr2_score\u001b[0m\u001b[0;34m(\u001b[0m\u001b[0mtest_y\u001b[0m\u001b[0;34m,\u001b[0m \u001b[0mmodel\u001b[0m\u001b[0;34m.\u001b[0m\u001b[0mpredict\u001b[0m\u001b[0;34m(\u001b[0m\u001b[0mtest_x\u001b[0m\u001b[0;34m)\u001b[0m\u001b[0;34m)\u001b[0m\u001b[0;34m\u001b[0m\u001b[0;34m\u001b[0m\u001b[0m\n\u001b[1;32m     20\u001b[0m         \u001b[0mscore_2\u001b[0m \u001b[0;34m=\u001b[0m \u001b[0mmean_absolute_error\u001b[0m\u001b[0;34m(\u001b[0m\u001b[0mtest_y\u001b[0m\u001b[0;34m,\u001b[0m \u001b[0mmodel\u001b[0m\u001b[0;34m.\u001b[0m\u001b[0mpredict\u001b[0m\u001b[0;34m(\u001b[0m\u001b[0mtest_x\u001b[0m\u001b[0;34m)\u001b[0m\u001b[0;34m)\u001b[0m\u001b[0;34m\u001b[0m\u001b[0;34m\u001b[0m\u001b[0m\n",
      "\u001b[0;32m~/opt/miniconda/envs/kaggle/lib/python3.9/site-packages/xgboost/core.py\u001b[0m in \u001b[0;36minner_f\u001b[0;34m(*args, **kwargs)\u001b[0m\n\u001b[1;32m    420\u001b[0m         \u001b[0;32mfor\u001b[0m \u001b[0mk\u001b[0m\u001b[0;34m,\u001b[0m \u001b[0marg\u001b[0m \u001b[0;32min\u001b[0m \u001b[0mzip\u001b[0m\u001b[0;34m(\u001b[0m\u001b[0msig\u001b[0m\u001b[0;34m.\u001b[0m\u001b[0mparameters\u001b[0m\u001b[0;34m,\u001b[0m \u001b[0margs\u001b[0m\u001b[0;34m)\u001b[0m\u001b[0;34m:\u001b[0m\u001b[0;34m\u001b[0m\u001b[0;34m\u001b[0m\u001b[0m\n\u001b[1;32m    421\u001b[0m             \u001b[0mkwargs\u001b[0m\u001b[0;34m[\u001b[0m\u001b[0mk\u001b[0m\u001b[0;34m]\u001b[0m \u001b[0;34m=\u001b[0m \u001b[0marg\u001b[0m\u001b[0;34m\u001b[0m\u001b[0;34m\u001b[0m\u001b[0m\n\u001b[0;32m--> 422\u001b[0;31m         \u001b[0;32mreturn\u001b[0m \u001b[0mf\u001b[0m\u001b[0;34m(\u001b[0m\u001b[0;34m**\u001b[0m\u001b[0mkwargs\u001b[0m\u001b[0;34m)\u001b[0m\u001b[0;34m\u001b[0m\u001b[0;34m\u001b[0m\u001b[0m\n\u001b[0m\u001b[1;32m    423\u001b[0m \u001b[0;34m\u001b[0m\u001b[0m\n\u001b[1;32m    424\u001b[0m     \u001b[0;32mreturn\u001b[0m \u001b[0minner_f\u001b[0m\u001b[0;34m\u001b[0m\u001b[0;34m\u001b[0m\u001b[0m\n",
      "\u001b[0;32m~/opt/miniconda/envs/kaggle/lib/python3.9/site-packages/xgboost/sklearn.py\u001b[0m in \u001b[0;36mfit\u001b[0;34m(self, X, y, sample_weight, base_margin, eval_set, eval_metric, early_stopping_rounds, verbose, xgb_model, sample_weight_eval_set, feature_weights, callbacks)\u001b[0m\n\u001b[1;32m    595\u001b[0m                 \u001b[0mparams\u001b[0m\u001b[0;34m.\u001b[0m\u001b[0mupdate\u001b[0m\u001b[0;34m(\u001b[0m\u001b[0;34m{\u001b[0m\u001b[0;34m'eval_metric'\u001b[0m\u001b[0;34m:\u001b[0m \u001b[0meval_metric\u001b[0m\u001b[0;34m}\u001b[0m\u001b[0;34m)\u001b[0m\u001b[0;34m\u001b[0m\u001b[0;34m\u001b[0m\u001b[0m\n\u001b[1;32m    596\u001b[0m \u001b[0;34m\u001b[0m\u001b[0m\n\u001b[0;32m--> 597\u001b[0;31m         self._Booster = train(params, train_dmatrix,\n\u001b[0m\u001b[1;32m    598\u001b[0m                               \u001b[0mself\u001b[0m\u001b[0;34m.\u001b[0m\u001b[0mget_num_boosting_rounds\u001b[0m\u001b[0;34m(\u001b[0m\u001b[0;34m)\u001b[0m\u001b[0;34m,\u001b[0m \u001b[0mevals\u001b[0m\u001b[0;34m=\u001b[0m\u001b[0mevals\u001b[0m\u001b[0;34m,\u001b[0m\u001b[0;34m\u001b[0m\u001b[0;34m\u001b[0m\u001b[0m\n\u001b[1;32m    599\u001b[0m                               \u001b[0mearly_stopping_rounds\u001b[0m\u001b[0;34m=\u001b[0m\u001b[0mearly_stopping_rounds\u001b[0m\u001b[0;34m,\u001b[0m\u001b[0;34m\u001b[0m\u001b[0;34m\u001b[0m\u001b[0m\n",
      "\u001b[0;32m~/opt/miniconda/envs/kaggle/lib/python3.9/site-packages/xgboost/training.py\u001b[0m in \u001b[0;36mtrain\u001b[0;34m(params, dtrain, num_boost_round, evals, obj, feval, maximize, early_stopping_rounds, evals_result, verbose_eval, xgb_model, callbacks)\u001b[0m\n\u001b[1;32m    225\u001b[0m     \u001b[0mBooster\u001b[0m \u001b[0;34m:\u001b[0m \u001b[0ma\u001b[0m \u001b[0mtrained\u001b[0m \u001b[0mbooster\u001b[0m \u001b[0mmodel\u001b[0m\u001b[0;34m\u001b[0m\u001b[0;34m\u001b[0m\u001b[0m\n\u001b[1;32m    226\u001b[0m     \"\"\"\n\u001b[0;32m--> 227\u001b[0;31m     bst = _train_internal(params, dtrain,\n\u001b[0m\u001b[1;32m    228\u001b[0m                           \u001b[0mnum_boost_round\u001b[0m\u001b[0;34m=\u001b[0m\u001b[0mnum_boost_round\u001b[0m\u001b[0;34m,\u001b[0m\u001b[0;34m\u001b[0m\u001b[0;34m\u001b[0m\u001b[0m\n\u001b[1;32m    229\u001b[0m                           \u001b[0mevals\u001b[0m\u001b[0;34m=\u001b[0m\u001b[0mevals\u001b[0m\u001b[0;34m,\u001b[0m\u001b[0;34m\u001b[0m\u001b[0;34m\u001b[0m\u001b[0m\n",
      "\u001b[0;32m~/opt/miniconda/envs/kaggle/lib/python3.9/site-packages/xgboost/training.py\u001b[0m in \u001b[0;36m_train_internal\u001b[0;34m(params, dtrain, num_boost_round, evals, obj, feval, xgb_model, callbacks, evals_result, maximize, verbose_eval, early_stopping_rounds)\u001b[0m\n\u001b[1;32m    100\u001b[0m         \u001b[0;31m# Skip the first update if it is a recovery step.\u001b[0m\u001b[0;34m\u001b[0m\u001b[0;34m\u001b[0m\u001b[0m\n\u001b[1;32m    101\u001b[0m         \u001b[0;32mif\u001b[0m \u001b[0mversion\u001b[0m \u001b[0;34m%\u001b[0m \u001b[0;36m2\u001b[0m \u001b[0;34m==\u001b[0m \u001b[0;36m0\u001b[0m\u001b[0;34m:\u001b[0m\u001b[0;34m\u001b[0m\u001b[0;34m\u001b[0m\u001b[0m\n\u001b[0;32m--> 102\u001b[0;31m             \u001b[0mbst\u001b[0m\u001b[0;34m.\u001b[0m\u001b[0mupdate\u001b[0m\u001b[0;34m(\u001b[0m\u001b[0mdtrain\u001b[0m\u001b[0;34m,\u001b[0m \u001b[0mi\u001b[0m\u001b[0;34m,\u001b[0m \u001b[0mobj\u001b[0m\u001b[0;34m)\u001b[0m\u001b[0;34m\u001b[0m\u001b[0;34m\u001b[0m\u001b[0m\n\u001b[0m\u001b[1;32m    103\u001b[0m             \u001b[0mbst\u001b[0m\u001b[0;34m.\u001b[0m\u001b[0msave_rabit_checkpoint\u001b[0m\u001b[0;34m(\u001b[0m\u001b[0;34m)\u001b[0m\u001b[0;34m\u001b[0m\u001b[0;34m\u001b[0m\u001b[0m\n\u001b[1;32m    104\u001b[0m             \u001b[0mversion\u001b[0m \u001b[0;34m+=\u001b[0m \u001b[0;36m1\u001b[0m\u001b[0;34m\u001b[0m\u001b[0;34m\u001b[0m\u001b[0m\n",
      "\u001b[0;32m~/opt/miniconda/envs/kaggle/lib/python3.9/site-packages/xgboost/core.py\u001b[0m in \u001b[0;36mupdate\u001b[0;34m(self, dtrain, iteration, fobj)\u001b[0m\n\u001b[1;32m   1278\u001b[0m \u001b[0;34m\u001b[0m\u001b[0m\n\u001b[1;32m   1279\u001b[0m         \u001b[0;32mif\u001b[0m \u001b[0mfobj\u001b[0m \u001b[0;32mis\u001b[0m \u001b[0;32mNone\u001b[0m\u001b[0;34m:\u001b[0m\u001b[0;34m\u001b[0m\u001b[0;34m\u001b[0m\u001b[0m\n\u001b[0;32m-> 1280\u001b[0;31m             _check_call(_LIB.XGBoosterUpdateOneIter(self.handle,\n\u001b[0m\u001b[1;32m   1281\u001b[0m                                                     \u001b[0mctypes\u001b[0m\u001b[0;34m.\u001b[0m\u001b[0mc_int\u001b[0m\u001b[0;34m(\u001b[0m\u001b[0miteration\u001b[0m\u001b[0;34m)\u001b[0m\u001b[0;34m,\u001b[0m\u001b[0;34m\u001b[0m\u001b[0;34m\u001b[0m\u001b[0m\n\u001b[1;32m   1282\u001b[0m                                                     dtrain.handle))\n",
      "\u001b[0;31mKeyboardInterrupt\u001b[0m: "
     ]
    }
   ],
   "source": [
    "import xgboost as xgb\n",
    "model_xgb = xgb.XGBRegressor(colsample_bytree=0.4603, gamma=0.0468, \n",
    "                             learning_rate=0.05, max_depth=2, \n",
    "                             min_child_weight=1.7817, n_estimators=500,\n",
    "                             reg_alpha=0.4640, reg_lambda=0.8571,\n",
    "                             subsample=0.5213, verbosity=0,\n",
    "                             random_state=7, nthread=-1)\n",
    "print(\"xgboost\", get_score(model_xgb, x, y))"
   ]
  },
  {
   "cell_type": "code",
   "execution_count": 6,
   "id": "2c4ec2be",
   "metadata": {},
   "outputs": [
    {
     "data": {
      "text/plain": [
       "[<matplotlib.lines.Line2D at 0x7f7d034751c0>]"
      ]
     },
     "execution_count": 6,
     "metadata": {},
     "output_type": "execute_result"
    },
    {
     "data": {
      "image/png": "[encoded data removed]",
      "text/plain": [
       "<Figure size 432x288 with 1 Axes>"
      ]
     },
     "metadata": {
      "needs_background": "light"
     },
     "output_type": "display_data"
    }
   ],
   "source": [
    "x1 = x[:n_time_steps*10, :]\n",
    "yp1_ridge = model_ridge.predict(x1)\n",
    "#yp1_xgb = model_xgb.predict(x1)\n",
    "y1 = y[:n_time_steps*10]\n",
    "plt.plot(y1)\n",
    "plt.plot(yp1_ridge)\n",
    "#plt.plot(yp1_xgb)"
   ]
  },
  {
   "cell_type": "code",
   "execution_count": null,
   "id": "39188000",
   "metadata": {},
   "outputs": [],
   "source": []
  }
 ],
 "metadata": {
  "kernelspec": {
   "display_name": "kaggle",
   "language": "python",
   "name": "kaggle"
  },
  "language_info": {
   "codemirror_mode": {
    "name": "ipython",
    "version": 3
   },
   "file_extension": ".py",
   "mimetype": "text/x-python",
   "name": "python",
   "nbconvert_exporter": "python",
   "pygments_lexer": "ipython3",
   "version": "3.9.7"
  }
 },
 "nbformat": 4,
 "nbformat_minor": 5
}
