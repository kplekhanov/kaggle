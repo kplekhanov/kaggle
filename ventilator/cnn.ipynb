{
 "cells": [
  {
   "cell_type": "code",
   "execution_count": 1,
   "id": "abb81560",
   "metadata": {},
   "outputs": [],
   "source": [
    "import numpy as np\n",
    "import pandas as pd\n",
    "import torch\n",
    "import matplotlib.pyplot as plt\n",
    "\n",
    "df = pd.read_csv(\"./data/train.csv\")"
   ]
  },
  {
   "cell_type": "code",
   "execution_count": 2,
   "id": "b2a8b725",
   "metadata": {},
   "outputs": [],
   "source": [
    "from sklearn.preprocessing import StandardScaler\n",
    "\n",
    "scalers = {}\n",
    "for key in [\"pressure\", \"u_in\"]:\n",
    "    scaler = StandardScaler()\n",
    "    scaler.fit(df[[key]])\n",
    "    df[[key]]= scaler.transform(df[[key]])\n",
    "    scalers[key] = scaler"
   ]
  },
  {
   "cell_type": "code",
   "execution_count": 2,
   "id": "8d1bcf98",
   "metadata": {},
   "outputs": [],
   "source": [
    "from itertools import product\n",
    "\n",
    "unique_rs = df[\"R\"].unique()\n",
    "unique_cs = df[\"C\"].unique()\n",
    "unique_rcs = list(product(unique_rs, unique_cs))\n",
    "\n",
    "df_rc_dict = {}\n",
    "for r, c in unique_rcs:\n",
    "    df_rc_dict[(r, c)] = df[(df[\"R\"] == r) & (df[\"C\"] == c)]"
   ]
  },
  {
   "cell_type": "code",
   "execution_count": 3,
   "id": "6aacd69a",
   "metadata": {},
   "outputs": [],
   "source": [
    "df_rc = df_rc_dict[unique_rcs[0]]\n",
    "breath_ids = df_rc[\"breath_id\"].unique()\n",
    "n_breath_ids = len(breath_ids)\n",
    "n_time_steps = len(df_rc) // n_breath_ids\n",
    "\n",
    "n_in = 10\n",
    "n_out = 3\n",
    "\n",
    "x_rc = np.zeros((n_breath_ids, 1, n_in))\n",
    "y_rc = np.zeros((n_breath_ids, n_out))\n",
    "for ib, b in enumerate(breath_ids):\n",
    "    mask = df_rc[\"breath_id\"] == b\n",
    "    x_rc[ib, 0, :] = df_rc[mask][\"u_in\"][:n_in]\n",
    "    y_rc[ib, :n_out] = df_rc[mask][\"pressure\"][:n_out]"
   ]
  },
  {
   "cell_type": "code",
   "execution_count": 4,
   "id": "ae04db3d",
   "metadata": {},
   "outputs": [
    {
     "name": "stdout",
     "output_type": "stream",
     "text": [
      "499 0.4161070135160492           \r"
     ]
    },
    {
     "data": {
      "text/plain": [
       "(0.4732282658678199, 0.0019004806216727779)"
      ]
     },
     "execution_count": 4,
     "metadata": {},
     "output_type": "execute_result"
    }
   ],
   "source": [
    "import torch.nn as nn\n",
    "from torch.optim import Adam\n",
    "from torch.autograd import Variable\n",
    "from sklearn.model_selection import KFold\n",
    "from sklearn.metrics import mean_absolute_error\n",
    "\n",
    "class MyNet(nn.Module):\n",
    "    \n",
    "    def __init__(self):\n",
    "        super().__init__()\n",
    "        self.flatten = nn.Flatten()\n",
    "        self.relu = nn.ReLU()\n",
    "        n_channels = 16\n",
    "        self.conv = nn.Conv1d(1, n_channels, kernel_size=5, stride=1)\n",
    "        s = (n_in - self.conv.kernel_size[0])\n",
    "        self.pool = nn.AvgPool1d(kernel_size=s)\n",
    "        self.fc1 = nn.Linear(n_channels, n_out)\n",
    "        s = self.fc1.out_features\n",
    "        self.fc2 = nn.Linear(s, n_out)\n",
    "        \n",
    "    def forward(self, x):\n",
    "        x = self.conv(x)\n",
    "        x = self.pool(x)\n",
    "        x = self.flatten(x)\n",
    "        x = self.fc1(x)\n",
    "        #x = self.relu(x)\n",
    "        #x = self.fc2(x)\n",
    "        #x = self.relu(x)\n",
    "        return x\n",
    "    \n",
    "    def reset_parameters(self):\n",
    "        for layer in [self.conv, self.fc1, self.fc2]:\n",
    "            layer.reset_parameters()\n",
    "    \n",
    "def train(model, x, y):\n",
    "    opt = Adam(model.parameters(), lr=0.1)\n",
    "    loss_fon = nn.MSELoss()\n",
    "    for epoch in range(500):\n",
    "        x = Variable(x)\n",
    "        y = Variable(y)\n",
    "        opt.zero_grad()\n",
    "        yp = model(x)\n",
    "        loss = loss_fon(yp, y)\n",
    "        loss.backward()\n",
    "        opt.step()\n",
    "        print(epoch, loss.item(), end=' '*10+'\\r')\n",
    "\n",
    "def score(model, x, y):\n",
    "    kfold = KFold(n_splits=3, shuffle=True)\n",
    "    scores = list()\n",
    "    model.reset_parameters()\n",
    "    for fold, (train_ids, test_ids) in enumerate(kfold.split(x_rc)):\n",
    "        x_train = x[train_ids]\n",
    "        x_test = x[test_ids]\n",
    "        y_train = y[train_ids]\n",
    "        y_test = y[test_ids]\n",
    "        train(model, x_train, y_train)\n",
    "        y_test_p = model(x_test)\n",
    "        scores.append(mean_absolute_error(y_test.detach(), y_test_p.detach()))\n",
    "    return np.mean(scores), np.std(scores)\n",
    "            \n",
    "x = torch.tensor(x_rc)\n",
    "y = torch.tensor(y_rc)\n",
    "model = MyNet().double()\n",
    "score(model, x, y)"
   ]
  },
  {
   "cell_type": "code",
   "execution_count": 15,
   "id": "05e19063",
   "metadata": {},
   "outputs": [
    {
     "name": "stdout",
     "output_type": "stream",
     "text": [
      "tensor([[ 0.0285,  0.0067, -0.0953],\n",
      "        [ 0.1528,  0.1422,  0.2317],\n",
      "        [-0.0265, -0.4257,  0.3177],\n",
      "        [ 0.0307, -0.2420, -0.0056],\n",
      "        [-0.0418, -0.0193, -0.1689],\n",
      "        [-0.0400, -0.0684,  0.0602],\n",
      "        [-0.1201, -0.1943, -1.8919],\n",
      "        [-0.0539, -0.0736,  0.0059],\n",
      "        [ 0.0642,  0.0225,  0.0471],\n",
      "        [-0.0541, -0.0455, -0.0477]], dtype=torch.float64,\n",
      "       grad_fn=<DivBackward0>)\n"
     ]
    }
   ],
   "source": [
    "yp = model(x)\n",
    "print((y[:10,:]-yp[:10,:])/y[:10,:])"
   ]
  },
  {
   "cell_type": "code",
   "execution_count": null,
   "id": "9c4c8ac8",
   "metadata": {},
   "outputs": [],
   "source": []
  }
 ],
 "metadata": {
  "kernelspec": {
   "display_name": "kaggle",
   "language": "python",
   "name": "kaggle"
  },
  "language_info": {
   "codemirror_mode": {
    "name": "ipython",
    "version": 3
   },
   "file_extension": ".py",
   "mimetype": "text/x-python",
   "name": "python",
   "nbconvert_exporter": "python",
   "pygments_lexer": "ipython3",
   "version": "3.9.7"
  }
 },
 "nbformat": 4,
 "nbformat_minor": 5
}
