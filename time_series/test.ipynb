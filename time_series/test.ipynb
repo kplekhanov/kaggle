{
 "cells": [
  {
   "cell_type": "code",
   "execution_count": 1,
   "id": "15eecb9c",
   "metadata": {},
   "outputs": [],
   "source": [
    "import numpy as np\n",
    "import pandas as pd\n",
    "import matplotlib.pyplot as plt\n",
    "\n",
    "%matplotlib qt5"
   ]
  },
  {
   "cell_type": "code",
   "execution_count": 2,
   "id": "9a68128d",
   "metadata": {},
   "outputs": [
    {
     "data": {
      "text/html": [
       "<div>\n",
       "<style scoped>\n",
       "    .dataframe tbody tr th:only-of-type {\n",
       "        vertical-align: middle;\n",
       "    }\n",
       "\n",
       "    .dataframe tbody tr th {\n",
       "        vertical-align: top;\n",
       "    }\n",
       "\n",
       "    .dataframe thead th {\n",
       "        text-align: right;\n",
       "    }\n",
       "</style>\n",
       "<table border=\"1\" class=\"dataframe\">\n",
       "  <thead>\n",
       "    <tr style=\"text-align: right;\">\n",
       "      <th></th>\n",
       "      <th>Date</th>\n",
       "      <th>Temp</th>\n",
       "    </tr>\n",
       "    <tr>\n",
       "      <th>Date</th>\n",
       "      <th></th>\n",
       "      <th></th>\n",
       "    </tr>\n",
       "  </thead>\n",
       "  <tbody>\n",
       "    <tr>\n",
       "      <th>1981-01-01</th>\n",
       "      <td>1981-01-01</td>\n",
       "      <td>20.7</td>\n",
       "    </tr>\n",
       "    <tr>\n",
       "      <th>1981-01-02</th>\n",
       "      <td>1981-01-02</td>\n",
       "      <td>17.9</td>\n",
       "    </tr>\n",
       "    <tr>\n",
       "      <th>1981-01-03</th>\n",
       "      <td>1981-01-03</td>\n",
       "      <td>18.8</td>\n",
       "    </tr>\n",
       "    <tr>\n",
       "      <th>1981-01-04</th>\n",
       "      <td>1981-01-04</td>\n",
       "      <td>14.6</td>\n",
       "    </tr>\n",
       "    <tr>\n",
       "      <th>1981-01-05</th>\n",
       "      <td>1981-01-05</td>\n",
       "      <td>15.8</td>\n",
       "    </tr>\n",
       "  </tbody>\n",
       "</table>\n",
       "</div>"
      ],
      "text/plain": [
       "                  Date  Temp\n",
       "Date                        \n",
       "1981-01-01  1981-01-01  20.7\n",
       "1981-01-02  1981-01-02  17.9\n",
       "1981-01-03  1981-01-03  18.8\n",
       "1981-01-04  1981-01-04  14.6\n",
       "1981-01-05  1981-01-05  15.8"
      ]
     },
     "execution_count": 2,
     "metadata": {},
     "output_type": "execute_result"
    }
   ],
   "source": [
    "\"\"\"index stuff\"\"\"\n",
    "\n",
    "df = pd.read_csv(\"./data/daily-min-temperatures.csv\")\n",
    "df.set_index(pd.DatetimeIndex(df['Date']), inplace=True)\n",
    "df.head()"
   ]
  },
  {
   "cell_type": "code",
   "execution_count": 3,
   "id": "b4cd11d9",
   "metadata": {},
   "outputs": [
    {
     "name": "stdout",
     "output_type": "stream",
     "text": [
      "Temp    0\n",
      "dtype: int64\n"
     ]
    }
   ],
   "source": [
    "\"\"\"filling nans\"\"\"\n",
    "\n",
    "from scipy.interpolate import interp1d\n",
    "\n",
    "df = df.resample('D').mean()\n",
    "df_nona = df.dropna(subset=['Temp'])\n",
    "choice = 6\n",
    "\n",
    "if choice == 1:\n",
    "    df = df.ffill()\n",
    "elif choice == 2:\n",
    "    df = df.bfill()\n",
    "elif choice == 3:\n",
    "    f = interp1d(pd.to_numeric(df_nona.index), df_nona['Temp'])\n",
    "    df['Temp'] = f(pd.to_numeric(df.index))\n",
    "elif choice == 4:\n",
    "    f = interp1d(pd.to_numeric(df_nona.index), df_nona['Temp'], kind='cubic')\n",
    "    df['Temp'] = f(pd.to_numeric(df.index))\n",
    "elif choice == 5:\n",
    "    def knn_mean(ts, n):\n",
    "        out = np.copy(ts)\n",
    "        for i, val in enumerate(ts):\n",
    "            if np.isnan(val):\n",
    "                n_by_2 = np.ceil(n/2)\n",
    "                lower = np.max([0, int(i-n_by_2)])\n",
    "                upper = np.min([len(ts)+1, int(i+n_by_2)])\n",
    "                ts_near = np.concatenate([ts[lower:i], ts[i:upper]])\n",
    "                out[i] = np.nanmean(ts_near)\n",
    "        return out\n",
    "    df['Temp'] = knn_mean(df['Temp'].values, 8)\n",
    "elif choice == 6:\n",
    "    def seasonal_mean(ts, n, lr=0.7):\n",
    "        out = np.copy(ts)\n",
    "        for i, val in enumerate(ts):\n",
    "            if np.isnan(val):\n",
    "                ts_seas = ts[i-1::-n]  # previous seasons only\n",
    "                if np.isnan(np.nanmean(ts_seas)):\n",
    "                    ts_seas = np.concatenate([ts[i-1::-n], ts[i::n]])  # previous and forward\n",
    "                out[i] = np.nanmean(ts_seas) * lr\n",
    "        return out\n",
    "    df['Temp'] = seasonal_mean(df['Temp'].values, n=365, lr=1.25)\n",
    "    \n",
    "print(df.isna().sum())"
   ]
  },
  {
   "cell_type": "code",
   "execution_count": 4,
   "id": "818f8e2c",
   "metadata": {},
   "outputs": [
    {
     "data": {
      "text/plain": [
       "[<matplotlib.lines.Line2D at 0x7f006cf4f2e0>]"
      ]
     },
     "execution_count": 4,
     "metadata": {},
     "output_type": "execute_result"
    }
   ],
   "source": [
    "\"\"\"fft\"\"\"\n",
    "\n",
    "from scipy.fft import fft\n",
    "\n",
    "yf = fft(df['Temp'].to_numpy())\n",
    "fig, fax = plt.subplots()\n",
    "fax.plot(np.abs(yf))"
   ]
  },
  {
   "cell_type": "code",
   "execution_count": 5,
   "id": "58b7998f",
   "metadata": {},
   "outputs": [
    {
     "data": {
      "text/plain": [
       "[<matplotlib.lines.Line2D at 0x7f006c5ed070>]"
      ]
     },
     "execution_count": 5,
     "metadata": {},
     "output_type": "execute_result"
    }
   ],
   "source": [
    "\"\"\"resampling\"\"\"\n",
    "\n",
    "fig, fax = plt.subplots()\n",
    "fax.plot(df['Temp'], marker='.', ms=0.1)\n",
    "fax.plot(df['Temp'].resample('M').mean())\n",
    "fax.plot(df['Temp'].resample('Y').mean())"
   ]
  },
  {
   "cell_type": "code",
   "execution_count": 6,
   "id": "560c1755",
   "metadata": {},
   "outputs": [
    {
     "data": {
      "text/plain": [
       "[<matplotlib.lines.Line2D at 0x7f006c428430>]"
      ]
     },
     "execution_count": 6,
     "metadata": {},
     "output_type": "execute_result"
    }
   ],
   "source": [
    "\"\"\"rolling\"\"\"\n",
    "\n",
    "fig, fax = plt.subplots()\n",
    "fax.plot(df['Temp'].rolling(window='30D').mean())\n",
    "fax.plot(df['Temp'].rolling(window='30D').std())"
   ]
  },
  {
   "cell_type": "code",
   "execution_count": 7,
   "id": "f050a00a",
   "metadata": {},
   "outputs": [
    {
     "data": {
      "text/plain": [
       "[<matplotlib.lines.Line2D at 0x7f006c3f9550>]"
      ]
     },
     "execution_count": 7,
     "metadata": {},
     "output_type": "execute_result"
    }
   ],
   "source": [
    "\"\"\"getting static manually\"\"\"\n",
    "\n",
    "y = df['Temp']\n",
    "y_mean_30d = y.rolling(window='30D').mean()\n",
    "y_std_30d = y.rolling(window='30D').std()\n",
    "y_stat = (y - y_mean_30d) / y_std_30d\n",
    "y_stat = y_stat.bfill()\n",
    "fig, fax = plt.subplots()\n",
    "fax.plot(y_stat)"
   ]
  },
  {
   "cell_type": "code",
   "execution_count": 14,
   "id": "4c5c0562",
   "metadata": {},
   "outputs": [],
   "source": [
    "\"\"\"getting static with seasonal_decompose\"\"\"\n",
    "\n",
    "from statsmodels.tsa.seasonal import seasonal_decompose\n",
    "\n",
    "dec = seasonal_decompose(y, model='additive', extrapolate_trend='freq', period=365)\n",
    "fig, faxes = plt.subplots(3, 1)\n",
    "faxes[0].plot(dec.trend)\n",
    "faxes[1].plot(dec.seasonal)\n",
    "faxes[2].plot(dec.resid)\n",
    "plt.tight_layout()\n",
    "\n",
    "y_stat = y - dec.trend - dec.seasonal\n",
    "#fig, fax = plt.subplots()\n",
    "#fax.plot(y_stat)"
   ]
  },
  {
   "cell_type": "code",
   "execution_count": 9,
   "id": "8b0d0b57",
   "metadata": {},
   "outputs": [
    {
     "name": "stdout",
     "output_type": "stream",
     "text": [
      "ADF Statistic: -18.84912460303161\n",
      "p-value: 0.0\n",
      "KPSS Statistic: 0.020665\n",
      "p-value: 0.100000\n"
     ]
    },
    {
     "name": "stderr",
     "output_type": "stream",
     "text": [
      "/home/kirill/opt/miniconda/envs/kaggle/lib/python3.9/site-packages/statsmodels/tsa/stattools.py:2002: InterpolationWarning: The test statistic is outside of the range of p-values available in the\n",
      "look-up table. The actual p-value is greater than the p-value returned.\n",
      "\n",
      "  warnings.warn(\n"
     ]
    }
   ],
   "source": [
    "\"\"\"checking how static it is\"\"\"\n",
    "\n",
    "from statsmodels.tsa.stattools import adfuller, kpss\n",
    "\n",
    "result = adfuller(y_stat, autolag='AIC')\n",
    "print(f'ADF Statistic: {result[0]}')\n",
    "print(f'p-value: {result[1]}')\n",
    "\n",
    "result = kpss(y_stat, regression='c')\n",
    "print('KPSS Statistic: %f' % result[0])\n",
    "print('p-value: %f' % result[1])"
   ]
  },
  {
   "cell_type": "code",
   "execution_count": 20,
   "id": "0dc7c8d5",
   "metadata": {},
   "outputs": [
    {
     "data": {
      "text/plain": [
       "[<matplotlib.lines.Line2D at 0x7f005c746f10>]"
      ]
     },
     "execution_count": 20,
     "metadata": {},
     "output_type": "execute_result"
    }
   ],
   "source": [
    "\"\"\"auto-correlation\"\"\"\n",
    "\n",
    "from statsmodels.tsa.stattools import acf, pacf\n",
    "\n",
    "acf_50 = acf(y_stat, nlags=50)\n",
    "pacf_50 = pacf(y_stat, nlags=50)\n",
    "\n",
    "fig, faxes = plt.subplots(2, 1)\n",
    "faxes[0].plot(acf_50)\n",
    "faxes[1].plot(pacf_50)"
   ]
  },
  {
   "cell_type": "code",
   "execution_count": 30,
   "id": "52568075",
   "metadata": {},
   "outputs": [
    {
     "data": {
      "text/plain": [
       "[<matplotlib.lines.Line2D at 0x7f0057dd25e0>]"
      ]
     },
     "execution_count": 30,
     "metadata": {},
     "output_type": "execute_result"
    }
   ],
   "source": [
    "\"\"\"smoothening\"\"\"\n",
    "\n",
    "from statsmodels.nonparametric.smoothers_lowess import lowess\n",
    "\n",
    "fig, faxes = plt.subplots(3, 1)\n",
    "\n",
    "y_smooth = y_stat.rolling(5, center=True, closed='both').mean()\n",
    "faxes[0].plot(y_stat, label='stat')\n",
    "faxes[0].plot(y_smooth, label='smooth')\n",
    "faxes[0].legend()\n",
    "\n",
    "y_smooth = pd.DataFrame(lowess(y_stat, np.arange(len(y_stat)), frac=0.05)[:, 1],\n",
    "                        index=y_stat.index, columns=['Temp'])\n",
    "faxes[1].plot(y_stat, label='stat')\n",
    "faxes[1].plot(y_smooth, label='smooth')\n",
    "\n",
    "y_smooth = pd.DataFrame(lowess(y_stat, np.arange(len(y_stat)), frac=0.15)[:, 1],\n",
    "                        index=y_stat.index, columns=['Temp'])\n",
    "faxes[2].plot(y_stat, label='stat')\n",
    "faxes[2].plot(y_smooth, label='smooth')"
   ]
  },
  {
   "cell_type": "code",
   "execution_count": 20,
   "id": "e3d5b823",
   "metadata": {},
   "outputs": [
    {
     "name": "stderr",
     "output_type": "stream",
     "text": [
      "/home/kirill/opt/miniconda/envs/kaggle/lib/python3.9/site-packages/statsmodels/tsa/base/tsa_model.py:593: ValueWarning: A date index has been provided, but it has no associated frequency information and so will be ignored when e.g. forecasting.\n",
      "  warnings.warn('A date index has been provided, but it has no'\n",
      "/home/kirill/opt/miniconda/envs/kaggle/lib/python3.9/site-packages/statsmodels/tsa/base/tsa_model.py:390: ValueWarning: No supported index is available. Prediction results will be given with an integer index beginning at `start`.\n",
      "  warnings.warn('No supported index is available.'\n"
     ]
    },
    {
     "data": {
      "text/plain": [
       "[<matplotlib.lines.Line2D at 0x7f980464db50>]"
      ]
     },
     "execution_count": 20,
     "metadata": {},
     "output_type": "execute_result"
    }
   ],
   "source": [
    "from statsmodels.tsa.api import SimpleExpSmoothing\n",
    "\n",
    "y_to_train = y[:-300]\n",
    "\n",
    "fit = SimpleExpSmoothing(y_to_train).fit()\n",
    "fcast = fit.forecast(50)\n",
    "fig, fax = plt.subplots()\n",
    "fax.plot(y_to_train[-300:-250].to_numpy())\n",
    "fax.plot(fcast.to_numpy())"
   ]
  },
  {
   "cell_type": "code",
   "execution_count": 21,
   "id": "a692b45d",
   "metadata": {},
   "outputs": [
    {
     "name": "stderr",
     "output_type": "stream",
     "text": [
      "/home/kirill/opt/miniconda/envs/kaggle/lib/python3.9/site-packages/statsmodels/tsa/base/tsa_model.py:593: ValueWarning: A date index has been provided, but it has no associated frequency information and so will be ignored when e.g. forecasting.\n",
      "  warnings.warn('A date index has been provided, but it has no'\n",
      "/home/kirill/opt/miniconda/envs/kaggle/lib/python3.9/site-packages/statsmodels/tsa/base/tsa_model.py:390: ValueWarning: No supported index is available. Prediction results will be given with an integer index beginning at `start`.\n",
      "  warnings.warn('No supported index is available.'\n"
     ]
    },
    {
     "data": {
      "text/plain": [
       "[<matplotlib.lines.Line2D at 0x7f980432fe80>]"
      ]
     },
     "execution_count": 21,
     "metadata": {},
     "output_type": "execute_result"
    }
   ],
   "source": [
    "from statsmodels.tsa.api import Holt\n",
    "\n",
    "y_to_train = y[:-300]\n",
    "\n",
    "fit = Holt(y_to_train).fit()\n",
    "fcast = fit.forecast(50)\n",
    "fig, fax = plt.subplots()\n",
    "fax.plot(y_to_train[-300:-250].to_numpy())\n",
    "fax.plot(fcast.to_numpy())"
   ]
  },
  {
   "cell_type": "code",
   "execution_count": 28,
   "id": "8f7b1633",
   "metadata": {},
   "outputs": [
    {
     "name": "stderr",
     "output_type": "stream",
     "text": [
      "/home/kirill/opt/miniconda/envs/kaggle/lib/python3.9/site-packages/statsmodels/tsa/base/tsa_model.py:593: ValueWarning: A date index has been provided, but it has no associated frequency information and so will be ignored when e.g. forecasting.\n",
      "  warnings.warn('A date index has been provided, but it has no'\n",
      "/home/kirill/opt/miniconda/envs/kaggle/lib/python3.9/site-packages/statsmodels/tsa/base/tsa_model.py:390: ValueWarning: No supported index is available. Prediction results will be given with an integer index beginning at `start`.\n",
      "  warnings.warn('No supported index is available.'\n"
     ]
    },
    {
     "data": {
      "text/plain": [
       "[<matplotlib.lines.Line2D at 0x7f9803b505b0>]"
      ]
     },
     "execution_count": 28,
     "metadata": {},
     "output_type": "execute_result"
    }
   ],
   "source": [
    "from statsmodels.tsa.api import ExponentialSmoothing\n",
    "\n",
    "y_to_train = y[:-300]\n",
    "\n",
    "fit = ExponentialSmoothing(y_to_train, seasonal_periods=12, trend='add', seasonal='add').fit()\n",
    "fcast = fit.forecast(50)\n",
    "fig, fax = plt.subplots()\n",
    "fax.plot(y.to_numpy())\n",
    "fax.plot(fcast)"
   ]
  },
  {
   "cell_type": "code",
   "execution_count": null,
   "id": "96ca0923",
   "metadata": {},
   "outputs": [],
   "source": []
  }
 ],
 "metadata": {
  "kernelspec": {
   "display_name": "kaggle",
   "language": "python",
   "name": "kaggle"
  },
  "language_info": {
   "codemirror_mode": {
    "name": "ipython",
    "version": 3
   },
   "file_extension": ".py",
   "mimetype": "text/x-python",
   "name": "python",
   "nbconvert_exporter": "python",
   "pygments_lexer": "ipython3",
   "version": "3.9.0"
  }
 },
 "nbformat": 4,
 "nbformat_minor": 5
}
